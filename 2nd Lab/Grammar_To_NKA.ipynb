{
 "cells": [
  {
   "cell_type": "code",
   "execution_count": 1,
   "metadata": {},
   "outputs": [],
   "source": [
    "import pandas as pd\n",
    "import math"
   ]
  },
  {
   "cell_type": "code",
   "execution_count": 2,
   "metadata": {},
   "outputs": [],
   "source": [
    "fileName = \"Gra3.txt\"\n",
    "rightsided = False # A > aA ?"
   ]
  },
  {
   "cell_type": "code",
   "execution_count": 3,
   "metadata": {},
   "outputs": [
    {
     "name": "stdout",
     "output_type": "stream",
     "text": [
      "['0', '1']\n",
      "['H', 'S', 'A']\n",
      "H\n",
      "S\n"
     ]
    }
   ],
   "source": [
    "terminals = []\n",
    "nonterminals = []\n",
    "begin = \"\"\n",
    "end = \"\"\n",
    "\n",
    "with open(fileName, 'r', encoding='utf-8') as file:\n",
    "    for newLine in file:\n",
    "        if newLine.startswith(\"терминалы\"):\n",
    "            terminals = newLine[newLine.find(\"{\")+1:newLine.find(\"}\")].strip(\" \").split(\",\")\n",
    "        elif newLine.startswith(\"нетерминалы\"):\n",
    "            nonterminals = newLine[newLine.find(\"{\")+1:newLine.find(\"}\")].strip(\" \").split(\",\")\n",
    "        elif newLine.startswith(\"начало\"):\n",
    "            begin = newLine[newLine.find(\"{\")+1:newLine.find(\"}\")]\n",
    "        elif newLine.startswith(\"конец\"):\n",
    "            end = newLine[newLine.find(\"{\")+1:newLine.find(\"}\")]\n",
    "            \n",
    "print(terminals)\n",
    "print(nonterminals)\n",
    "print(begin)\n",
    "print(end)"
   ]
  },
  {
   "cell_type": "code",
   "execution_count": 4,
   "metadata": {},
   "outputs": [
    {
     "name": "stdout",
     "output_type": "stream",
     "text": [
      "  H S A\n",
      "0      \n",
      "1      \n"
     ]
    }
   ],
   "source": [
    "NKA = pd.DataFrame(columns=nonterminals, index=terminals)\n",
    "NKA = NKA.fillna(\"\")\n",
    "print(NKA)"
   ]
  },
  {
   "cell_type": "code",
   "execution_count": 5,
   "metadata": {},
   "outputs": [
    {
     "name": "stdout",
     "output_type": "stream",
     "text": [
      "   H  S    A\n",
      "0  A     S/A\n",
      "1     A     \n"
     ]
    }
   ],
   "source": [
    "varTerminals = dict()\n",
    "for i in terminals:\n",
    "    varTerminals[i] = [i]\n",
    "\n",
    "with open(fileName, 'r', encoding='utf-8') as file:\n",
    "    for newLine in file:\n",
    "        if newLine.startswith(\"терминалы\") or newLine.startswith(\"нетерминалы\") or newLine.startswith(\"начало\") or newLine.startswith(\"конец\"):\n",
    "            continue\n",
    "        elif newLine[0:newLine.find(\">\")].strip(\" \") in nonterminals:\n",
    "            nodeTo = newLine[0:newLine.find(\">\")].strip(\" \")\n",
    "            for i in newLine[newLine.find(\">\")+1:-1].strip(\" \").split(\"|\"):\n",
    "                if i.find(\"*\") != -1:\n",
    "                    for j in i.split(\"*\"):\n",
    "                        if j in nonterminals:\n",
    "                            nodeFrom = j\n",
    "                        else:\n",
    "                            move = j\n",
    "                else:\n",
    "                    if rightsided:\n",
    "                        nodeFrom = end\n",
    "                    else:\n",
    "                        nodeFrom = begin\n",
    "                    move = i\n",
    "\n",
    "                if rightsided:\n",
    "                    nodeFrom, nodeTo = nodeTo, nodeFrom\n",
    "                    \n",
    "                for j in varTerminals[move]:\n",
    "                    if NKA.loc[j][nodeFrom] == \"\":\n",
    "                        NKA.loc[j, nodeFrom] = nodeTo\n",
    "                    else:\n",
    "                        NKA.loc[j, nodeFrom] = NKA.loc[j, nodeFrom] + \"/\" + nodeTo\n",
    "                        \n",
    "                if rightsided:\n",
    "                    nodeFrom, nodeTo = nodeTo, nodeFrom\n",
    "            \n",
    "        else:\n",
    "            varTerminals[newLine[0:newLine.find(\">\")].strip(\" \")] = newLine[newLine.find(\">\")+1:-1].strip(\" \").split(\"|\")\n",
    "            \n",
    "print(NKA)\n",
    "NKA.to_csv(\"NKA2.csv\")"
   ]
  },
  {
   "cell_type": "code",
   "execution_count": null,
   "metadata": {},
   "outputs": [],
   "source": []
  }
 ],
 "metadata": {
  "kernelspec": {
   "display_name": "Python 3",
   "language": "python",
   "name": "python3"
  },
  "language_info": {
   "codemirror_mode": {
    "name": "ipython",
    "version": 3
   },
   "file_extension": ".py",
   "mimetype": "text/x-python",
   "name": "python",
   "nbconvert_exporter": "python",
   "pygments_lexer": "ipython3",
   "version": "3.8.5"
  }
 },
 "nbformat": 4,
 "nbformat_minor": 4
}
